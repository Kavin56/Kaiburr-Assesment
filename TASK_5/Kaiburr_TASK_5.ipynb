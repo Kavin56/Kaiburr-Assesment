{
  "cells": [
    {
      "cell_type": "markdown",
      "metadata": {
        "id": "view-in-github",
        "colab_type": "text"
      },
      "source": [
        "<a href=\"https://colab.research.google.com/github/Kavin56/Kaiburr-Assesment/blob/main/TASK_5/Kaiburr_TASK_5.ipynb\" target=\"_parent\"><img src=\"https://colab.research.google.com/assets/colab-badge.svg\" alt=\"Open In Colab\"/></a>"
      ]
    },
    {
      "cell_type": "markdown",
      "metadata": {
        "id": "B0N9qfKxNwGA"
      },
      "source": [
        "# Import necessary libs"
      ]
    },
    {
      "cell_type": "code",
      "execution_count": null,
      "metadata": {
        "colab": {
          "base_uri": "https://localhost:8080/"
        },
        "id": "n_rz87AbOAK0",
        "outputId": "e02f13bc-2eba-4122-9ef8-8b0a02ecc3e4"
      },
      "outputs": [
        {
          "output_type": "stream",
          "name": "stdout",
          "text": [
            "Collecting emoji\n",
            "  Downloading emoji-2.15.0-py3-none-any.whl.metadata (5.7 kB)\n",
            "Downloading emoji-2.15.0-py3-none-any.whl (608 kB)\n",
            "\u001b[?25l   \u001b[90m━━━━━━━━━━━━━━━━━━━━━━━━━━━━━━━━━━━━━━━━\u001b[0m \u001b[32m0.0/608.4 kB\u001b[0m \u001b[31m?\u001b[0m eta \u001b[36m-:--:--\u001b[0m\r\u001b[2K   \u001b[90m━━━━━━━━━━━━━━━━━━━━━━━━━━━━━━━━━━━━━━━━\u001b[0m \u001b[32m608.4/608.4 kB\u001b[0m \u001b[31m43.7 MB/s\u001b[0m eta \u001b[36m0:00:00\u001b[0m\n",
            "\u001b[?25hInstalling collected packages: emoji\n",
            "Successfully installed emoji-2.15.0\n"
          ]
        }
      ],
      "source": [
        "pip install emoji"
      ]
    },
    {
      "cell_type": "code",
      "execution_count": null,
      "metadata": {
        "colab": {
          "base_uri": "https://localhost:8080/"
        },
        "id": "oa5MXvmBNswf",
        "outputId": "10b52610-1a76-4646-c9ce-a5a66ba078bd"
      },
      "outputs": [
        {
          "output_type": "stream",
          "name": "stderr",
          "text": [
            "[nltk_data] Downloading package stopwords to /root/nltk_data...\n",
            "[nltk_data]   Unzipping corpora/stopwords.zip.\n",
            "[nltk_data] Downloading package punkt to /root/nltk_data...\n",
            "[nltk_data]   Unzipping tokenizers/punkt.zip.\n",
            "[nltk_data] Downloading package wordnet to /root/nltk_data...\n",
            "[nltk_data] Downloading package omw-1.4 to /root/nltk_data...\n"
          ]
        },
        {
          "output_type": "execute_result",
          "data": {
            "text/plain": [
              "True"
            ]
          },
          "metadata": {},
          "execution_count": 2
        }
      ],
      "source": [
        "import re, string, nltk, emoji\n",
        "from nltk.corpus import stopwords\n",
        "from nltk.stem import WordNetLemmatizer\n",
        "from nltk.tokenize import word_tokenize\n",
        "from nltk.corpus import wordnet\n",
        "import pandas as pd, numpy as np, re, nltk, matplotlib.pyplot as plt, warnings\n",
        "from sklearn.preprocessing import LabelEncoder\n",
        "from sklearn.model_selection import train_test_split\n",
        "from sklearn.feature_extraction.text import TfidfVectorizer\n",
        "from sklearn.linear_model import LogisticRegression\n",
        "from sklearn.naive_bayes import MultinomialNB\n",
        "from sklearn.ensemble import RandomForestClassifier\n",
        "from sklearn.svm import LinearSVC\n",
        "from sklearn.metrics import accuracy_score, classification_report, confusion_matrix, ConfusionMatrixDisplay\n",
        "\n",
        "warnings.filterwarnings(\"ignore\")\n",
        "\n",
        "nltk.download(\"stopwords\")\n",
        "nltk.download(\"punkt\")\n",
        "nltk.download(\"wordnet\")\n",
        "nltk.download(\"omw-1.4\")\n"
      ]
    },
    {
      "cell_type": "code",
      "execution_count": null,
      "metadata": {
        "colab": {
          "base_uri": "https://localhost:8080/",
          "height": 640
        },
        "id": "6_bOL9c2O3aX",
        "outputId": "2bce448d-5519-44ca-fa0e-b7c2111dabc2"
      },
      "outputs": [
        {
          "output_type": "execute_result",
          "data": {
            "text/plain": [
              "  Date received                                            Product  \\\n",
              "0    2020-07-06  Credit reporting, credit repair services, or o...   \n",
              "1    2025-10-14  Credit reporting or other personal consumer re...   \n",
              "2    2025-10-10  Credit reporting or other personal consumer re...   \n",
              "3    2025-10-15  Credit reporting or other personal consumer re...   \n",
              "4    2025-10-03                                    Debt collection   \n",
              "\n",
              "        Sub-product                                 Issue  \\\n",
              "0  Credit reporting  Incorrect information on your report   \n",
              "1  Credit reporting  Incorrect information on your report   \n",
              "2  Credit reporting  Incorrect information on your report   \n",
              "3  Credit reporting  Incorrect information on your report   \n",
              "4     I do not know    False statements or representation   \n",
              "\n",
              "                                           Sub-issue  \\\n",
              "0                Information belongs to someone else   \n",
              "1  Information is missing that should be on the r...   \n",
              "2                Information belongs to someone else   \n",
              "3                Information belongs to someone else   \n",
              "4                  Attempted to collect wrong amount   \n",
              "\n",
              "  Consumer complaint narrative  \\\n",
              "0                          NaN   \n",
              "1                          NaN   \n",
              "2                          NaN   \n",
              "3                          NaN   \n",
              "4                          NaN   \n",
              "\n",
              "                             Company public response  \\\n",
              "0  Company has responded to the consumer and the ...   \n",
              "1                                                NaN   \n",
              "2                                                NaN   \n",
              "3                                                NaN   \n",
              "4                                                NaN   \n",
              "\n",
              "                                  Company State ZIP code Tags  \\\n",
              "0     Experian Information Solutions Inc.    FL    346XX  NaN   \n",
              "1                           EQUIFAX, INC.    TX    75062  NaN   \n",
              "2                           EQUIFAX, INC.    GA    30341  NaN   \n",
              "3  TRANSUNION INTERMEDIATE HOLDINGS, INC.    TX    75287  NaN   \n",
              "4         Resurgent Capital Services L.P.    MS    38751  NaN   \n",
              "\n",
              "  Consumer consent provided? Submitted via Date sent to company  \\\n",
              "0                      Other           Web           2020-07-06   \n",
              "1                        NaN           Web           2025-10-14   \n",
              "2                        NaN           Web           2025-10-10   \n",
              "3                        NaN           Web           2025-10-15   \n",
              "4                        NaN           Web           2025-10-03   \n",
              "\n",
              "  Company response to consumer Timely response? Consumer disputed?  \\\n",
              "0      Closed with explanation              Yes                NaN   \n",
              "1                  In progress              Yes                NaN   \n",
              "2                  In progress              Yes                NaN   \n",
              "3                  In progress              Yes                NaN   \n",
              "4                  In progress              Yes                NaN   \n",
              "\n",
              "   Complaint ID  \n",
              "0       3730948  \n",
              "1      16558024  \n",
              "2      16507707  \n",
              "3      16593757  \n",
              "4      16359589  "
            ],
            "text/html": [
              "\n",
              "  <div id=\"df-a927fb92-59e5-4c5d-98a5-2e21f1404d9f\" class=\"colab-df-container\">\n",
              "    <div>\n",
              "<style scoped>\n",
              "    .dataframe tbody tr th:only-of-type {\n",
              "        vertical-align: middle;\n",
              "    }\n",
              "\n",
              "    .dataframe tbody tr th {\n",
              "        vertical-align: top;\n",
              "    }\n",
              "\n",
              "    .dataframe thead th {\n",
              "        text-align: right;\n",
              "    }\n",
              "</style>\n",
              "<table border=\"1\" class=\"dataframe\">\n",
              "  <thead>\n",
              "    <tr style=\"text-align: right;\">\n",
              "      <th></th>\n",
              "      <th>Date received</th>\n",
              "      <th>Product</th>\n",
              "      <th>Sub-product</th>\n",
              "      <th>Issue</th>\n",
              "      <th>Sub-issue</th>\n",
              "      <th>Consumer complaint narrative</th>\n",
              "      <th>Company public response</th>\n",
              "      <th>Company</th>\n",
              "      <th>State</th>\n",
              "      <th>ZIP code</th>\n",
              "      <th>Tags</th>\n",
              "      <th>Consumer consent provided?</th>\n",
              "      <th>Submitted via</th>\n",
              "      <th>Date sent to company</th>\n",
              "      <th>Company response to consumer</th>\n",
              "      <th>Timely response?</th>\n",
              "      <th>Consumer disputed?</th>\n",
              "      <th>Complaint ID</th>\n",
              "    </tr>\n",
              "  </thead>\n",
              "  <tbody>\n",
              "    <tr>\n",
              "      <th>0</th>\n",
              "      <td>2020-07-06</td>\n",
              "      <td>Credit reporting, credit repair services, or o...</td>\n",
              "      <td>Credit reporting</td>\n",
              "      <td>Incorrect information on your report</td>\n",
              "      <td>Information belongs to someone else</td>\n",
              "      <td>NaN</td>\n",
              "      <td>Company has responded to the consumer and the ...</td>\n",
              "      <td>Experian Information Solutions Inc.</td>\n",
              "      <td>FL</td>\n",
              "      <td>346XX</td>\n",
              "      <td>NaN</td>\n",
              "      <td>Other</td>\n",
              "      <td>Web</td>\n",
              "      <td>2020-07-06</td>\n",
              "      <td>Closed with explanation</td>\n",
              "      <td>Yes</td>\n",
              "      <td>NaN</td>\n",
              "      <td>3730948</td>\n",
              "    </tr>\n",
              "    <tr>\n",
              "      <th>1</th>\n",
              "      <td>2025-10-14</td>\n",
              "      <td>Credit reporting or other personal consumer re...</td>\n",
              "      <td>Credit reporting</td>\n",
              "      <td>Incorrect information on your report</td>\n",
              "      <td>Information is missing that should be on the r...</td>\n",
              "      <td>NaN</td>\n",
              "      <td>NaN</td>\n",
              "      <td>EQUIFAX, INC.</td>\n",
              "      <td>TX</td>\n",
              "      <td>75062</td>\n",
              "      <td>NaN</td>\n",
              "      <td>NaN</td>\n",
              "      <td>Web</td>\n",
              "      <td>2025-10-14</td>\n",
              "      <td>In progress</td>\n",
              "      <td>Yes</td>\n",
              "      <td>NaN</td>\n",
              "      <td>16558024</td>\n",
              "    </tr>\n",
              "    <tr>\n",
              "      <th>2</th>\n",
              "      <td>2025-10-10</td>\n",
              "      <td>Credit reporting or other personal consumer re...</td>\n",
              "      <td>Credit reporting</td>\n",
              "      <td>Incorrect information on your report</td>\n",
              "      <td>Information belongs to someone else</td>\n",
              "      <td>NaN</td>\n",
              "      <td>NaN</td>\n",
              "      <td>EQUIFAX, INC.</td>\n",
              "      <td>GA</td>\n",
              "      <td>30341</td>\n",
              "      <td>NaN</td>\n",
              "      <td>NaN</td>\n",
              "      <td>Web</td>\n",
              "      <td>2025-10-10</td>\n",
              "      <td>In progress</td>\n",
              "      <td>Yes</td>\n",
              "      <td>NaN</td>\n",
              "      <td>16507707</td>\n",
              "    </tr>\n",
              "    <tr>\n",
              "      <th>3</th>\n",
              "      <td>2025-10-15</td>\n",
              "      <td>Credit reporting or other personal consumer re...</td>\n",
              "      <td>Credit reporting</td>\n",
              "      <td>Incorrect information on your report</td>\n",
              "      <td>Information belongs to someone else</td>\n",
              "      <td>NaN</td>\n",
              "      <td>NaN</td>\n",
              "      <td>TRANSUNION INTERMEDIATE HOLDINGS, INC.</td>\n",
              "      <td>TX</td>\n",
              "      <td>75287</td>\n",
              "      <td>NaN</td>\n",
              "      <td>NaN</td>\n",
              "      <td>Web</td>\n",
              "      <td>2025-10-15</td>\n",
              "      <td>In progress</td>\n",
              "      <td>Yes</td>\n",
              "      <td>NaN</td>\n",
              "      <td>16593757</td>\n",
              "    </tr>\n",
              "    <tr>\n",
              "      <th>4</th>\n",
              "      <td>2025-10-03</td>\n",
              "      <td>Debt collection</td>\n",
              "      <td>I do not know</td>\n",
              "      <td>False statements or representation</td>\n",
              "      <td>Attempted to collect wrong amount</td>\n",
              "      <td>NaN</td>\n",
              "      <td>NaN</td>\n",
              "      <td>Resurgent Capital Services L.P.</td>\n",
              "      <td>MS</td>\n",
              "      <td>38751</td>\n",
              "      <td>NaN</td>\n",
              "      <td>NaN</td>\n",
              "      <td>Web</td>\n",
              "      <td>2025-10-03</td>\n",
              "      <td>In progress</td>\n",
              "      <td>Yes</td>\n",
              "      <td>NaN</td>\n",
              "      <td>16359589</td>\n",
              "    </tr>\n",
              "  </tbody>\n",
              "</table>\n",
              "</div>\n",
              "    <div class=\"colab-df-buttons\">\n",
              "\n",
              "  <div class=\"colab-df-container\">\n",
              "    <button class=\"colab-df-convert\" onclick=\"convertToInteractive('df-a927fb92-59e5-4c5d-98a5-2e21f1404d9f')\"\n",
              "            title=\"Convert this dataframe to an interactive table.\"\n",
              "            style=\"display:none;\">\n",
              "\n",
              "  <svg xmlns=\"http://www.w3.org/2000/svg\" height=\"24px\" viewBox=\"0 -960 960 960\">\n",
              "    <path d=\"M120-120v-720h720v720H120Zm60-500h600v-160H180v160Zm220 220h160v-160H400v160Zm0 220h160v-160H400v160ZM180-400h160v-160H180v160Zm440 0h160v-160H620v160ZM180-180h160v-160H180v160Zm440 0h160v-160H620v160Z\"/>\n",
              "  </svg>\n",
              "    </button>\n",
              "\n",
              "  <style>\n",
              "    .colab-df-container {\n",
              "      display:flex;\n",
              "      gap: 12px;\n",
              "    }\n",
              "\n",
              "    .colab-df-convert {\n",
              "      background-color: #E8F0FE;\n",
              "      border: none;\n",
              "      border-radius: 50%;\n",
              "      cursor: pointer;\n",
              "      display: none;\n",
              "      fill: #1967D2;\n",
              "      height: 32px;\n",
              "      padding: 0 0 0 0;\n",
              "      width: 32px;\n",
              "    }\n",
              "\n",
              "    .colab-df-convert:hover {\n",
              "      background-color: #E2EBFA;\n",
              "      box-shadow: 0px 1px 2px rgba(60, 64, 67, 0.3), 0px 1px 3px 1px rgba(60, 64, 67, 0.15);\n",
              "      fill: #174EA6;\n",
              "    }\n",
              "\n",
              "    .colab-df-buttons div {\n",
              "      margin-bottom: 4px;\n",
              "    }\n",
              "\n",
              "    [theme=dark] .colab-df-convert {\n",
              "      background-color: #3B4455;\n",
              "      fill: #D2E3FC;\n",
              "    }\n",
              "\n",
              "    [theme=dark] .colab-df-convert:hover {\n",
              "      background-color: #434B5C;\n",
              "      box-shadow: 0px 1px 3px 1px rgba(0, 0, 0, 0.15);\n",
              "      filter: drop-shadow(0px 1px 2px rgba(0, 0, 0, 0.3));\n",
              "      fill: #FFFFFF;\n",
              "    }\n",
              "  </style>\n",
              "\n",
              "    <script>\n",
              "      const buttonEl =\n",
              "        document.querySelector('#df-a927fb92-59e5-4c5d-98a5-2e21f1404d9f button.colab-df-convert');\n",
              "      buttonEl.style.display =\n",
              "        google.colab.kernel.accessAllowed ? 'block' : 'none';\n",
              "\n",
              "      async function convertToInteractive(key) {\n",
              "        const element = document.querySelector('#df-a927fb92-59e5-4c5d-98a5-2e21f1404d9f');\n",
              "        const dataTable =\n",
              "          await google.colab.kernel.invokeFunction('convertToInteractive',\n",
              "                                                    [key], {});\n",
              "        if (!dataTable) return;\n",
              "\n",
              "        const docLinkHtml = 'Like what you see? Visit the ' +\n",
              "          '<a target=\"_blank\" href=https://colab.research.google.com/notebooks/data_table.ipynb>data table notebook</a>'\n",
              "          + ' to learn more about interactive tables.';\n",
              "        element.innerHTML = '';\n",
              "        dataTable['output_type'] = 'display_data';\n",
              "        await google.colab.output.renderOutput(dataTable, element);\n",
              "        const docLink = document.createElement('div');\n",
              "        docLink.innerHTML = docLinkHtml;\n",
              "        element.appendChild(docLink);\n",
              "      }\n",
              "    </script>\n",
              "  </div>\n",
              "\n",
              "\n",
              "    <div id=\"df-7b645aa8-f0cf-4f51-8525-dcc712e163e9\">\n",
              "      <button class=\"colab-df-quickchart\" onclick=\"quickchart('df-7b645aa8-f0cf-4f51-8525-dcc712e163e9')\"\n",
              "                title=\"Suggest charts\"\n",
              "                style=\"display:none;\">\n",
              "\n",
              "<svg xmlns=\"http://www.w3.org/2000/svg\" height=\"24px\"viewBox=\"0 0 24 24\"\n",
              "     width=\"24px\">\n",
              "    <g>\n",
              "        <path d=\"M19 3H5c-1.1 0-2 .9-2 2v14c0 1.1.9 2 2 2h14c1.1 0 2-.9 2-2V5c0-1.1-.9-2-2-2zM9 17H7v-7h2v7zm4 0h-2V7h2v10zm4 0h-2v-4h2v4z\"/>\n",
              "    </g>\n",
              "</svg>\n",
              "      </button>\n",
              "\n",
              "<style>\n",
              "  .colab-df-quickchart {\n",
              "      --bg-color: #E8F0FE;\n",
              "      --fill-color: #1967D2;\n",
              "      --hover-bg-color: #E2EBFA;\n",
              "      --hover-fill-color: #174EA6;\n",
              "      --disabled-fill-color: #AAA;\n",
              "      --disabled-bg-color: #DDD;\n",
              "  }\n",
              "\n",
              "  [theme=dark] .colab-df-quickchart {\n",
              "      --bg-color: #3B4455;\n",
              "      --fill-color: #D2E3FC;\n",
              "      --hover-bg-color: #434B5C;\n",
              "      --hover-fill-color: #FFFFFF;\n",
              "      --disabled-bg-color: #3B4455;\n",
              "      --disabled-fill-color: #666;\n",
              "  }\n",
              "\n",
              "  .colab-df-quickchart {\n",
              "    background-color: var(--bg-color);\n",
              "    border: none;\n",
              "    border-radius: 50%;\n",
              "    cursor: pointer;\n",
              "    display: none;\n",
              "    fill: var(--fill-color);\n",
              "    height: 32px;\n",
              "    padding: 0;\n",
              "    width: 32px;\n",
              "  }\n",
              "\n",
              "  .colab-df-quickchart:hover {\n",
              "    background-color: var(--hover-bg-color);\n",
              "    box-shadow: 0 1px 2px rgba(60, 64, 67, 0.3), 0 1px 3px 1px rgba(60, 64, 67, 0.15);\n",
              "    fill: var(--button-hover-fill-color);\n",
              "  }\n",
              "\n",
              "  .colab-df-quickchart-complete:disabled,\n",
              "  .colab-df-quickchart-complete:disabled:hover {\n",
              "    background-color: var(--disabled-bg-color);\n",
              "    fill: var(--disabled-fill-color);\n",
              "    box-shadow: none;\n",
              "  }\n",
              "\n",
              "  .colab-df-spinner {\n",
              "    border: 2px solid var(--fill-color);\n",
              "    border-color: transparent;\n",
              "    border-bottom-color: var(--fill-color);\n",
              "    animation:\n",
              "      spin 1s steps(1) infinite;\n",
              "  }\n",
              "\n",
              "  @keyframes spin {\n",
              "    0% {\n",
              "      border-color: transparent;\n",
              "      border-bottom-color: var(--fill-color);\n",
              "      border-left-color: var(--fill-color);\n",
              "    }\n",
              "    20% {\n",
              "      border-color: transparent;\n",
              "      border-left-color: var(--fill-color);\n",
              "      border-top-color: var(--fill-color);\n",
              "    }\n",
              "    30% {\n",
              "      border-color: transparent;\n",
              "      border-left-color: var(--fill-color);\n",
              "      border-top-color: var(--fill-color);\n",
              "      border-right-color: var(--fill-color);\n",
              "    }\n",
              "    40% {\n",
              "      border-color: transparent;\n",
              "      border-right-color: var(--fill-color);\n",
              "      border-top-color: var(--fill-color);\n",
              "    }\n",
              "    60% {\n",
              "      border-color: transparent;\n",
              "      border-right-color: var(--fill-color);\n",
              "    }\n",
              "    80% {\n",
              "      border-color: transparent;\n",
              "      border-right-color: var(--fill-color);\n",
              "      border-bottom-color: var(--fill-color);\n",
              "    }\n",
              "    90% {\n",
              "      border-color: transparent;\n",
              "      border-bottom-color: var(--fill-color);\n",
              "    }\n",
              "  }\n",
              "</style>\n",
              "\n",
              "      <script>\n",
              "        async function quickchart(key) {\n",
              "          const quickchartButtonEl =\n",
              "            document.querySelector('#' + key + ' button');\n",
              "          quickchartButtonEl.disabled = true;  // To prevent multiple clicks.\n",
              "          quickchartButtonEl.classList.add('colab-df-spinner');\n",
              "          try {\n",
              "            const charts = await google.colab.kernel.invokeFunction(\n",
              "                'suggestCharts', [key], {});\n",
              "          } catch (error) {\n",
              "            console.error('Error during call to suggestCharts:', error);\n",
              "          }\n",
              "          quickchartButtonEl.classList.remove('colab-df-spinner');\n",
              "          quickchartButtonEl.classList.add('colab-df-quickchart-complete');\n",
              "        }\n",
              "        (() => {\n",
              "          let quickchartButtonEl =\n",
              "            document.querySelector('#df-7b645aa8-f0cf-4f51-8525-dcc712e163e9 button');\n",
              "          quickchartButtonEl.style.display =\n",
              "            google.colab.kernel.accessAllowed ? 'block' : 'none';\n",
              "        })();\n",
              "      </script>\n",
              "    </div>\n",
              "\n",
              "    </div>\n",
              "  </div>\n"
            ],
            "application/vnd.google.colaboratory.intrinsic+json": {
              "type": "dataframe",
              "variable_name": "df"
            }
          },
          "metadata": {},
          "execution_count": 3
        }
      ],
      "source": [
        "url = \"https://files.consumerfinance.gov/ccdb/complaints.csv.zip\"\n",
        "df = pd.read_csv(url, compression=\"zip\")\n",
        "df.head(5)"
      ]
    },
    {
      "cell_type": "code",
      "execution_count": null,
      "metadata": {
        "colab": {
          "base_uri": "https://localhost:8080/"
        },
        "id": "jgcpFzbeO-o7",
        "outputId": "50af7a2b-d04f-47a3-8667-2088f1fc82f3"
      },
      "outputs": [
        {
          "output_type": "stream",
          "name": "stdout",
          "text": [
            "Filtered dataset size: 515519\n",
            "product\n",
            "Debt collection    371255\n",
            "Mortgage           134803\n",
            "Consumer Loan        9461\n",
            "Name: count, dtype: int64 \n",
            "\n"
          ]
        }
      ],
      "source": [
        "df = df.rename(columns=lambda x: x.strip().lower())\n",
        "df = df[[\"product\", \"consumer complaint narrative\"]].dropna()\n",
        "\n",
        "categories = [\n",
        "    \"Credit reporting, repair, or other\",\n",
        "    \"Debt collection\",\n",
        "    \"Consumer Loan\",\n",
        "    \"Mortgage\"\n",
        "]\n",
        "\n",
        "df = df[df[\"product\"].isin(categories)]\n",
        "df = df.rename(columns={\"consumer complaint narrative\": \"text\"}).sample(frac=1, random_state=42)\n",
        "\n",
        "print(f\"Filtered dataset size: {len(df)}\")\n",
        "print(df[\"product\"].value_counts(), \"\\n\")"
      ]
    },
    {
      "cell_type": "code",
      "execution_count": null,
      "metadata": {
        "id": "0kT5woMTPAb2"
      },
      "outputs": [],
      "source": [
        "le = LabelEncoder()\n",
        "df[\"label\"] = le.fit_transform(df[\"product\"])"
      ]
    },
    {
      "cell_type": "code",
      "execution_count": null,
      "metadata": {
        "colab": {
          "base_uri": "https://localhost:8080/"
        },
        "id": "HjlcMq-vQPLL",
        "outputId": "6a478446-bc4a-4e0d-c26b-86fa12811fa5"
      },
      "outputs": [
        {
          "output_type": "stream",
          "name": "stderr",
          "text": [
            "[nltk_data] Downloading package stopwords to /root/nltk_data...\n",
            "[nltk_data]   Package stopwords is already up-to-date!\n",
            "[nltk_data] Downloading package punkt to /root/nltk_data...\n",
            "[nltk_data]   Package punkt is already up-to-date!\n",
            "[nltk_data] Downloading package wordnet to /root/nltk_data...\n",
            "[nltk_data]   Package wordnet is already up-to-date!\n",
            "[nltk_data] Downloading package omw-1.4 to /root/nltk_data...\n",
            "[nltk_data]   Package omw-1.4 is already up-to-date!\n"
          ]
        }
      ],
      "source": [
        "import re, string, emoji, nltk\n",
        "from nltk.corpus import stopwords\n",
        "from nltk.stem import WordNetLemmatizer\n",
        "from nltk.tokenize import word_tokenize\n",
        "\n",
        "# Download NLTK dependencies\n",
        "nltk.download(\"stopwords\")\n",
        "nltk.download(\"punkt\")\n",
        "nltk.download(\"wordnet\")\n",
        "nltk.download(\"omw-1.4\")\n",
        "\n",
        "# Initialize objects\n",
        "stop_words = set(stopwords.words(\"english\"))\n",
        "lemmatizer = WordNetLemmatizer()\n",
        "\n",
        "# Add extra common or dataset-specific stopwords\n",
        "custom_stopwords = {\n",
        "    \"xxxx\", \"xx\", \"na\", \"nan\", \"n/a\", \"account\", \"creditor\", \"loan\", \"report\",\n",
        "    \"complaint\", \"consumer\", \"finance\", \"company\"\n",
        "}\n",
        "stop_words |= custom_stopwords"
      ]
    },
    {
      "cell_type": "markdown",
      "metadata": {
        "id": "M0h2uGNYOQ8E"
      },
      "source": [
        "# Text Cleaning"
      ]
    },
    {
      "cell_type": "code",
      "execution_count": null,
      "metadata": {
        "id": "nohvPvv2N0Ul"
      },
      "outputs": [],
      "source": [
        "# ------------------------------------------------------------\n",
        "# 🧹 Advanced Text Cleaning Function\n",
        "# ------------------------------------------------------------\n",
        "\n",
        "def clean_text_advanced(text):\n",
        "    \"\"\"\n",
        "    Cleans and normalizes consumer complaint text.\n",
        "    Steps:\n",
        "    1️⃣ Lowercasing\n",
        "    2️⃣ Removing URLs, emails, numbers, HTML tags\n",
        "    3️⃣ Expanding contractions (can't → cannot)\n",
        "    4️⃣ Removing punctuation, emojis, and extra spaces\n",
        "    5️⃣ Lemmatizing + removing stopwords\n",
        "    \"\"\"\n",
        "\n",
        "    # 1️⃣ Convert to lowercase\n",
        "    text = str(text).lower()\n",
        "\n",
        "    # 2️⃣ Remove URLs, emails, HTML tags, and numbers\n",
        "    text = re.sub(r\"http\\S+|www\\S+|https\\S+\", \" \", text)\n",
        "    text = re.sub(r\"\\S*@\\S*\\s?\", \" \", text)\n",
        "    text = re.sub(r\"<.*?>\", \" \", text)\n",
        "    text = re.sub(r\"\\d+\", \" \", text)\n",
        "\n",
        "    # 3️⃣ Expand common contractions\n",
        "    contractions = {\n",
        "        \"can't\": \"cannot\", \"won't\": \"will not\", \"n't\": \" not\", \"'re\": \" are\",\n",
        "        \"'s\": \" is\", \"'d\": \" would\", \"'ll\": \" will\", \"'t\": \" not\", \"'ve\": \" have\", \"'m\": \" am\"\n",
        "    }\n",
        "    for k, v in contractions.items():\n",
        "        text = text.replace(k, v)\n",
        "\n",
        "    # 4️⃣ Remove emojis and punctuation\n",
        "    text = emoji.replace_emoji(text, replace=' ')\n",
        "    text = text.translate(str.maketrans(\"\", \"\", string.punctuation))\n",
        "\n",
        "    # 5️⃣ Tokenize words\n",
        "    tokens = word_tokenize(text)\n",
        "\n",
        "    # 6️⃣ Lemmatize + remove stopwords and short tokens\n",
        "    clean_tokens = [\n",
        "        lemmatizer.lemmatize(tok) for tok in tokens\n",
        "        if tok not in stop_words and len(tok) > 2\n",
        "    ]\n",
        "\n",
        "    # 7️⃣ Join back into single string\n",
        "    return \" \".join(clean_tokens).strip()\n"
      ]
    },
    {
      "cell_type": "code",
      "execution_count": null,
      "metadata": {
        "colab": {
          "base_uri": "https://localhost:8080/"
        },
        "id": "fXlBAAKXRUMF",
        "outputId": "40d773a2-6f1b-45cb-87dc-647f31ee9e15"
      },
      "outputs": [
        {
          "output_type": "stream",
          "name": "stderr",
          "text": [
            "[nltk_data] Downloading package punkt_tab to /root/nltk_data...\n",
            "[nltk_data]   Unzipping tokenizers/punkt_tab.zip.\n"
          ]
        },
        {
          "output_type": "execute_result",
          "data": {
            "text/plain": [
              "True"
            ]
          },
          "metadata": {},
          "execution_count": 8
        }
      ],
      "source": [
        "import nltk\n",
        "nltk.download('punkt_tab')"
      ]
    },
    {
      "cell_type": "code",
      "execution_count": null,
      "metadata": {
        "colab": {
          "base_uri": "https://localhost:8080/"
        },
        "id": "qNWsV7TWQwIq",
        "outputId": "223426cf-69a2-4157-d632-2e0d2b904475"
      },
      "outputs": [
        {
          "output_type": "stream",
          "name": "stdout",
          "text": [
            "🔄 Cleaning text (this may take a minute)...\n",
            "                                                      text  \\\n",
            "3856825  I think FCRA 605B requires us to remove any in...   \n",
            "299188   They called me at XXXX XXXX while i am laying ...   \n",
            "897661   National Credit System is trying to collect de...   \n",
            "\n",
            "                                                clean_text  \n",
            "3856825  think fcra requires remove incorrect account c...  \n",
            "299188   called laying hospital transferred make paymen...  \n",
            "897661   national credit system trying collect debit ow...  \n"
          ]
        }
      ],
      "source": [
        "import nltk\n",
        "try:\n",
        "    from nltk.tokenize import word_tokenize\n",
        "    nltk.data.find('tokenizers/punkt')\n",
        "    tokenizer = word_tokenize\n",
        "except LookupError:\n",
        "    print(\"⚠️ punkt tokenizer not found, using simple split() instead.\")\n",
        "    tokenizer = lambda x: x.split()\n",
        "\n",
        "# Update function to use fallback tokenizer\n",
        "def clean_text_final(text):\n",
        "    # Use your advanced cleaning steps\n",
        "    text = str(text).lower()\n",
        "    text = re.sub(r\"http\\S+|www\\S+|https\\S+\", \" \", text)\n",
        "    text = re.sub(r\"\\S*@\\S*\\s?\", \" \", text)\n",
        "    text = re.sub(r\"<.*?>\", \" \", text)\n",
        "    text = re.sub(r\"\\d+\", \" \", text)\n",
        "\n",
        "    contractions = {\n",
        "        \"can't\": \"cannot\", \"won't\": \"will not\", \"n't\": \" not\", \"'re\": \" are\",\n",
        "        \"'s\": \" is\", \"'d\": \" would\", \"'ll\": \" will\", \"'t\": \" not\",\n",
        "        \"'ve\": \" have\", \"'m\": \" am\"\n",
        "    }\n",
        "    for k, v in contractions.items():\n",
        "        text = text.replace(k, v)\n",
        "\n",
        "    text = emoji.replace_emoji(text, replace=' ')\n",
        "    text = text.translate(str.maketrans(\"\", \"\", string.punctuation))\n",
        "\n",
        "    tokens = tokenizer(text)\n",
        "    clean_tokens = [lemmatizer.lemmatize(tok) for tok in tokens if tok not in stop_words and len(tok) > 2]\n",
        "    return \" \".join(clean_tokens).strip()\n",
        "\n",
        "# Apply cleaning\n",
        "print(\"🔄 Cleaning text (this may take a minute)...\")\n",
        "df[\"clean_text\"] = df[\"text\"].apply(clean_text_final)\n",
        "\n",
        "# Show sample results\n",
        "print(df[[\"text\", \"clean_text\"]].sample(3, random_state=42))"
      ]
    },
    {
      "cell_type": "code",
      "execution_count": null,
      "metadata": {
        "id": "276bd1ae",
        "colab": {
          "base_uri": "https://localhost:8080/"
        },
        "outputId": "913d2b0f-f95b-48f1-8908-9964f20ce999"
      },
      "outputs": [
        {
          "output_type": "stream",
          "name": "stdout",
          "text": [
            "✅ TF-IDF vectorization completed. Feature matrix shape: (515519, 5000)\n",
            "✅ Train set: 412415 samples, Test set: 103104 samples\n"
          ]
        }
      ],
      "source": [
        "from sklearn.feature_extraction.text import TfidfVectorizer\n",
        "from sklearn.model_selection import train_test_split\n",
        "\n",
        "tfidf = TfidfVectorizer(max_features=5000, ngram_range=(1,2))  # unigrams + bigrams\n",
        "X = tfidf.fit_transform(df[\"clean_text\"])\n",
        "y = df[\"label\"]\n",
        "\n",
        "print(\"✅ TF-IDF vectorization completed. Feature matrix shape:\", X.shape)\n",
        "\n",
        "X_train, X_test, y_train, y_test = train_test_split(\n",
        "    X, y, test_size=0.2, random_state=42, stratify=y\n",
        ")\n",
        "\n",
        "print(f\"✅ Train set: {X_train.shape[0]} samples, Test set: {X_test.shape[0]} samples\")\n"
      ]
    },
    {
      "cell_type": "markdown",
      "source": [
        "# NN"
      ],
      "metadata": {
        "id": "59vwjshOYit7"
      }
    },
    {
      "cell_type": "markdown",
      "source": [
        "## RNN"
      ],
      "metadata": {
        "id": "J_s8sJlzePKQ"
      }
    },
    {
      "cell_type": "code",
      "source": [
        "import tensorflow as tf\n",
        "from tensorflow.keras.models import Sequential\n",
        "from tensorflow.keras.layers import Dense, Embedding, SimpleRNN\n",
        "from tensorflow.keras.preprocessing.sequence import pad_sequences\n",
        "from tensorflow.keras.preprocessing.text import Tokenizer\n",
        "from sklearn.model_selection import train_test_split\n",
        "from sklearn.metrics import accuracy_score, classification_report, confusion_matrix\n",
        "import matplotlib.pyplot as plt\n",
        "import numpy as np\n",
        "\n",
        "# Since RNNs work with sequences, we need to tokenize and pad the text data.\n",
        "# We'll use the 'clean_text' column from the dataframe.\n",
        "\n",
        "# Parameters for tokenization and padding\n",
        "max_words = 5000  # Maximum number of words to keep\n",
        "maxlen = 100  # Maximum length of sequences\n",
        "\n",
        "# Tokenize the text\n",
        "tokenizer = Tokenizer(num_words=max_words)\n",
        "tokenizer.fit_on_texts(df[\"clean_text\"])\n",
        "sequences = tokenizer.texts_to_sequences(df[\"clean_text\"])\n",
        "\n",
        "# Pad the sequences\n",
        "padded_sequences = pad_sequences(sequences, maxlen=maxlen)\n",
        "\n",
        "# Split data for RNN\n",
        "X_train_rnn, X_test_rnn, y_train_rnn, y_test_rnn = train_test_split(\n",
        "    padded_sequences, df[\"label\"], test_size=0.2, random_state=42, stratify=df[\"label\"]\n",
        ")\n",
        "\n",
        "# Build the RNN model\n",
        "rnn_model = Sequential([\n",
        "    Embedding(max_words, 64, input_length=maxlen),\n",
        "    SimpleRNN(64),\n",
        "    Dense(len(le.classes_), activation='softmax') # Output layer with number of classes\n",
        "])\n",
        "\n",
        "# Compile the model\n",
        "rnn_model.compile(optimizer='adam',\n",
        "                  loss='sparse_categorical_crossentropy',\n",
        "                  metrics=['accuracy'])\n",
        "\n",
        "# Train the model\n",
        "print(\"Starting RNN model training...\")\n",
        "history = rnn_model.fit(X_train_rnn, y_train_rnn,\n",
        "                        epochs=5,\n",
        "                        batch_size=32,\n",
        "                        validation_split=0.2)\n",
        "\n",
        "# Evaluate the model\n",
        "loss, accuracy = rnn_model.evaluate(X_test_rnn, y_test_rnn, verbose=0)\n",
        "print(f\"\\n🏆 RNN Model Accuracy: {accuracy:.4f}\")\n",
        "\n",
        "# Predict and display classification report\n",
        "y_pred_rnn = np.argmax(rnn_model.predict(X_test_rnn), axis=-1)\n",
        "print(\"\\n📈 Classification Report:\\n\")\n",
        "print(classification_report(y_test_rnn, y_pred_rnn, target_names=le.classes_))\n",
        "\n",
        "# Confusion Matrix\n",
        "cm_rnn = confusion_matrix(y_test_rnn, y_pred_rnn)\n",
        "ConfusionMatrixDisplay(confusion_matrix=cm_rnn, display_labels=le.classes_).plot(\n",
        "    cmap=\"Blues\", xticks_rotation=45\n",
        ")\n",
        "plt.title(\"Confusion Matrix – Simple RNN\")\n",
        "plt.show()"
      ],
      "metadata": {
        "colab": {
          "base_uri": "https://localhost:8080/",
          "height": 1000
        },
        "id": "5n-OamuUdusb",
        "outputId": "fa8fa675-f45a-4fd7-bf4a-ebbd30c7558c"
      },
      "execution_count": null,
      "outputs": [
        {
          "output_type": "stream",
          "name": "stdout",
          "text": [
            "Starting RNN model training...\n",
            "Epoch 1/5\n",
            "\u001b[1m10311/10311\u001b[0m \u001b[32m━━━━━━━━━━━━━━━━━━━━\u001b[0m\u001b[37m\u001b[0m \u001b[1m118s\u001b[0m 11ms/step - accuracy: 0.8983 - loss: 0.3132 - val_accuracy: 0.9440 - val_loss: 0.2207\n",
            "Epoch 2/5\n",
            "\u001b[1m10311/10311\u001b[0m \u001b[32m━━━━━━━━━━━━━━━━━━━━\u001b[0m\u001b[37m\u001b[0m \u001b[1m106s\u001b[0m 10ms/step - accuracy: 0.9378 - loss: 0.2230 - val_accuracy: 0.8950 - val_loss: 0.3018\n",
            "Epoch 3/5\n",
            "\u001b[1m10311/10311\u001b[0m \u001b[32m━━━━━━━━━━━━━━━━━━━━\u001b[0m\u001b[37m\u001b[0m \u001b[1m111s\u001b[0m 11ms/step - accuracy: 0.9116 - loss: 0.2712 - val_accuracy: 0.9012 - val_loss: 0.2837\n",
            "Epoch 4/5\n",
            "\u001b[1m10311/10311\u001b[0m \u001b[32m━━━━━━━━━━━━━━━━━━━━\u001b[0m\u001b[37m\u001b[0m \u001b[1m106s\u001b[0m 10ms/step - accuracy: 0.9337 - loss: 0.2279 - val_accuracy: 0.9444 - val_loss: 0.1953\n",
            "Epoch 5/5\n",
            "\u001b[1m10311/10311\u001b[0m \u001b[32m━━━━━━━━━━━━━━━━━━━━\u001b[0m\u001b[37m\u001b[0m \u001b[1m102s\u001b[0m 10ms/step - accuracy: 0.9422 - loss: 0.1919 - val_accuracy: 0.9444 - val_loss: 0.2166\n",
            "\n",
            "🏆 RNN Model Accuracy: 0.9433\n",
            "\u001b[1m3222/3222\u001b[0m \u001b[32m━━━━━━━━━━━━━━━━━━━━\u001b[0m\u001b[37m\u001b[0m \u001b[1m9s\u001b[0m 3ms/step\n",
            "\n",
            "📈 Classification Report:\n",
            "\n",
            "                 precision    recall  f1-score   support\n",
            "\n",
            "  Consumer Loan       0.48      0.02      0.03      1892\n",
            "Debt collection       0.95      0.98      0.96     74251\n",
            "       Mortgage       0.94      0.90      0.92     26961\n",
            "\n",
            "       accuracy                           0.94    103104\n",
            "      macro avg       0.79      0.63      0.64    103104\n",
            "   weighted avg       0.94      0.94      0.93    103104\n",
            "\n"
          ]
        },
        {
          "output_type": "display_data",
          "data": {
            "text/plain": [
              "<Figure size 640x480 with 2 Axes>"
            ],
            "image/png": "[encoded data removed]"
          },
          "metadata": {}
        }
      ]
    },
    {
      "cell_type": "markdown",
      "source": [
        "## BiLSTM"
      ],
      "metadata": {
        "id": "YF9oOj1feQ5b"
      }
    },
    {
      "cell_type": "code",
      "source": [
        "import tensorflow as tf\n",
        "from tensorflow.keras.models import Sequential\n",
        "from tensorflow.keras.layers import Dense, Embedding, Bidirectional, LSTM\n",
        "from tensorflow.keras.preprocessing.sequence import pad_sequences\n",
        "from tensorflow.keras.preprocessing.text import Tokenizer\n",
        "from sklearn.model_selection import train_test_split\n",
        "from sklearn.metrics import accuracy_score, classification_report, confusion_matrix, ConfusionMatrixDisplay\n",
        "import matplotlib.pyplot as plt\n",
        "import numpy as np\n",
        "\n",
        "# Parameters for tokenization and padding\n",
        "max_words = 5000  # Maximum number of words to keep\n",
        "maxlen = 100      # Maximum length of sequences\n",
        "\n",
        "# Tokenize the text\n",
        "tokenizer = Tokenizer(num_words=max_words)\n",
        "tokenizer.fit_on_texts(df[\"clean_text\"])\n",
        "sequences = tokenizer.texts_to_sequences(df[\"clean_text\"])\n",
        "\n",
        "# Pad the sequences\n",
        "padded_sequences = pad_sequences(sequences, maxlen=maxlen)\n",
        "\n",
        "# Split data for BiLSTM\n",
        "X_train, X_test, y_train, y_test = train_test_split(\n",
        "    padded_sequences, df[\"label\"], test_size=0.2, random_state=42, stratify=df[\"label\"]\n",
        ")\n",
        "\n",
        "# Build the BiLSTM model\n",
        "bilstm_model = Sequential([\n",
        "    Embedding(max_words, 64, input_length=maxlen),\n",
        "    Bidirectional(LSTM(64)),\n",
        "    Dense(len(le.classes_), activation='softmax')  # Output layer with number of classes\n",
        "])\n",
        "\n",
        "# Compile the model\n",
        "bilstm_model.compile(optimizer='adam',\n",
        "                     loss='sparse_categorical_crossentropy',\n",
        "                     metrics=['accuracy'])\n",
        "\n",
        "# Train the model\n",
        "print(\"Starting BiLSTM model training...\")\n",
        "history = bilstm_model.fit(X_train, y_train,\n",
        "                           epochs=5,\n",
        "                           batch_size=32,\n",
        "                           validation_split=0.2)\n",
        "\n",
        "# Evaluate the model\n",
        "loss, accuracy = bilstm_model.evaluate(X_test, y_test, verbose=0)\n",
        "print(f\"\\n🏆 BiLSTM Model Accuracy: {accuracy:.4f}\")\n",
        "\n",
        "# Predict and display classification report\n",
        "y_pred = np.argmax(bilstm_model.predict(X_test), axis=-1)\n",
        "print(\"\\n📈 Classification Report:\\n\")\n",
        "print(classification_report(y_test, y_pred, target_names=le.classes_))\n",
        "\n",
        "# Confusion Matrix\n",
        "cm = confusion_matrix(y_test, y_pred)\n",
        "ConfusionMatrixDisplay(confusion_matrix=cm, display_labels=le.classes_).plot(\n",
        "    cmap=\"Blues\", xticks_rotation=45\n",
        ")\n",
        "plt.title(\"Confusion Matrix – BiLSTM\")\n",
        "plt.show()\n"
      ],
      "metadata": {
        "id": "BO6izL-KeTcn",
        "colab": {
          "base_uri": "https://localhost:8080/"
        },
        "outputId": "59dfb852-3597-437f-d54a-fab5eb4279ee"
      },
      "execution_count": null,
      "outputs": [
        {
          "output_type": "stream",
          "name": "stdout",
          "text": [
            "Starting BiLSTM model training...\n",
            "Epoch 1/5\n",
            "\u001b[1m10311/10311\u001b[0m \u001b[32m━━━━━━━━━━━━━━━━━━━━\u001b[0m\u001b[37m\u001b[0m \u001b[1m151s\u001b[0m 14ms/step - accuracy: 0.9476 - loss: 0.1702 - val_accuracy: 0.9660 - val_loss: 0.1064\n",
            "Epoch 2/5\n",
            "\u001b[1m 3659/10311\u001b[0m \u001b[32m━━━━━━━\u001b[0m\u001b[37m━━━━━━━━━━━━━\u001b[0m \u001b[1m1:23\u001b[0m 13ms/step - accuracy: 0.9682 - loss: 0.1005"
          ]
        }
      ]
    },
    {
      "cell_type": "markdown",
      "source": [
        "# TR"
      ],
      "metadata": {
        "id": "j4fb994cYmaZ"
      }
    },
    {
      "cell_type": "code",
      "source": [
        "from sklearn.linear_model import LogisticRegression\n",
        "from sklearn.metrics import accuracy_score, classification_report, confusion_matrix, ConfusionMatrixDisplay\n",
        "\n",
        "# Initialize model\n",
        "lr_model = LogisticRegression(max_iter=1000)\n",
        "\n",
        "# Train\n",
        "lr_model.fit(X_train, y_train)\n",
        "\n",
        "# Predict\n",
        "y_pred = lr_model.predict(X_test)\n",
        "\n",
        "# Accuracy\n",
        "acc = accuracy_score(y_test, y_pred)\n",
        "print(f\"🏆 Logistic Regression Accuracy: {acc:.4f}\\n\")\n",
        "\n",
        "# Classification Report\n",
        "print(\"📈 Classification Report:\\n\")\n",
        "print(classification_report(y_test, y_pred, target_names=le.classes_))\n",
        "\n",
        "# Confusion Matrix\n",
        "cm = confusion_matrix(y_test, y_pred)\n",
        "ConfusionMatrixDisplay(confusion_matrix=cm, display_labels=le.classes_).plot(\n",
        "    cmap=\"Blues\", xticks_rotation=45\n",
        ")\n",
        "plt.title(\"Confusion Matrix – Logistic Regression\")\n",
        "plt.show()\n"
      ],
      "metadata": {
        "id": "7b-kFkeaYiPo"
      },
      "execution_count": null,
      "outputs": []
    },
    {
      "cell_type": "code",
      "execution_count": null,
      "metadata": {
        "id": "zz3ZsJ2mRkOL"
      },
      "outputs": [],
      "source": [
        "# Train Random Forest Classifier\n",
        "from sklearn.ensemble import RandomForestClassifier\n",
        "from sklearn.metrics import accuracy_score, classification_report, confusion_matrix, ConfusionMatrixDisplay\n",
        "import matplotlib.pyplot as plt\n",
        "\n",
        "# Initialize model\n",
        "rf_model = RandomForestClassifier(n_estimators=100, random_state=42)\n",
        "\n",
        "# Train\n",
        "rf_model.fit(X_train, y_train)\n",
        "\n",
        "# Predict\n",
        "y_pred = rf_model.predict(X_test)\n",
        "\n",
        "# Accuracy\n",
        "acc = accuracy_score(y_test, y_pred)\n",
        "print(f\"Random Forest Accuracy: {acc:.4f}\\n\")\n",
        "\n",
        "# Classification Report\n",
        "print(\"Classification Report:\\n\")\n",
        "print(classification_report(y_test, y_pred, target_names=le.classes_))\n",
        "\n",
        "# Confusion Matrix\n",
        "cm = confusion_matrix(y_test, y_pred)\n",
        "ConfusionMatrixDisplay(confusion_matrix=cm, display_labels=le.classes_).plot(\n",
        "    cmap=\"Blues\", xticks_rotation=45\n",
        ")\n",
        "plt.title(\"Confusion Matrix – Random Forest\")\n",
        "plt.show()\n"
      ]
    },
    {
      "cell_type": "code",
      "execution_count": null,
      "metadata": {
        "id": "xphXWmjCSRoX"
      },
      "outputs": [],
      "source": [
        "categories = [\n",
        "    \"Credit reporting, repair, or other\",\n",
        "    \"Debt collection\",\n",
        "    \"Consumer Loan\",\n",
        "    \"Mortgage\"\n",
        "]\n",
        "df = df[df[\"product\"].isin(categories)]\n",
        "# Display the count of each product category\n",
        "print(df[\"product\"].value_counts())"
      ]
    },
    {
      "cell_type": "code",
      "execution_count": null,
      "metadata": {
        "id": "JNAf8t4XRzaE"
      },
      "outputs": [],
      "source": [
        "categories = [\n",
        "    \"Credit reporting, repair, or other\",\n",
        "    \"Debt collection\",\n",
        "    \"Consumer Loan\",\n",
        "    \"Mortgage\"\n",
        "]\n",
        "df = df[df[\"product\"].isin(categories)]\n"
      ]
    },
    {
      "cell_type": "code",
      "execution_count": null,
      "metadata": {
        "id": "5Qo-W9nlSHUp"
      },
      "outputs": [],
      "source": []
    }
  ],
  "metadata": {
    "accelerator": "GPU",
    "colab": {
      "gpuType": "T4",
      "provenance": [],
      "authorship_tag": "ABX9TyOmKHMVq1Iekeke8oT4EIKD",
      "include_colab_link": true
    },
    "kernelspec": {
      "display_name": "Python 3",
      "name": "python3"
    },
    "language_info": {
      "name": "python"
    }
  },
  "nbformat": 4,
  "nbformat_minor": 0
}